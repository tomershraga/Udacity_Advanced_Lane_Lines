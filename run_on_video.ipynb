{
 "cells": [
  {
   "cell_type": "code",
   "execution_count": null,
   "metadata": {},
   "outputs": [],
   "source": [
    "from moviepy.editor import VideoFileClip\n",
    "import glob\n",
    "import matplotlib.pyplot as plt\n",
    "import camera_calibration\n",
    "import undistort\n",
    "import thresholded_binary\n",
    "import perspective_transform\n",
    "import find_lane\n",
    "import curvature_and_offset\n",
    "import original_lane\n",
    "\n",
    "images = glob.glob('camera_cal/calibration*.jpg')\n",
    "mtx, dist = camera_calibration.camera_calib(images)\n",
    "first_frame = True\n",
    "left_fit = []\n",
    "right_fit = []\n",
    "left_fitx = []\n",
    "right_fitx = []\n",
    "\n",
    "def video_pipeline(pipeline_image):\n",
    "    global first_frame\n",
    "    global left_fit\n",
    "    global right_fit\n",
    "    global left_fitx\n",
    "    global right_fitx\n",
    "    # Undistort the image\n",
    "    undistorted_image = undistort.undistort_image(pipeline_image, mtx, dist)\n",
    "\n",
    "    # Apply the combined thresholds on the image to get a combined binary image\n",
    "    color_binary, combined_binary = thresholded_binary.create_thresholded_binary_image(undistorted_image)\n",
    "\n",
    "    # Create interest mask\n",
    "    after_mask = perspective_transform.create_interest_mask(combined_binary)\n",
    "    \n",
    "    # Create transform perspective\n",
    "    transformed_perspective_image, M, Minv = perspective_transform.transform_perspective(after_mask)\n",
    "\n",
    "    if first_frame:\n",
    "        # Find the lane line from the polynomials formed\n",
    "        sliding_window_img, ploty, left_fit, right_fit, left_fitx, right_fitx = find_lane.fit_polynomial(transformed_perspective_image)\n",
    "        first_frame = False\n",
    "\n",
    "    # In the next frame, find lane lines from the lane lines of the last frame\n",
    "    result, ploty, left_fit, right_fit, left_fitx, right_fitx  = find_lane.search_around_poly(transformed_perspective_image, left_fit, right_fit)\n",
    "    \n",
    "    # Calculates the curvature of polynomial functions in meters\n",
    "    left_curverad, right_curverad = curvature_and_offset.measure_curvature_pixels(ploty, left_fit, right_fit)\n",
    "    \n",
    "    # Calculate position of the car from the centre\n",
    "    offset = curvature_and_offset.offset((left_fit, right_fit), pipeline_image)\n",
    "    \n",
    "    #plt.imshow(transformed_perspective_image)\n",
    "    #plt.show()\n",
    "    original_lane_image = original_lane.original_lane_lines(transformed_perspective_image, undistorted_image, (left_fitx, right_fitx), Minv, left_curverad, right_curverad, offset)\n",
    "\n",
    "    # return orig_lane_image\n",
    "    return original_lane_image\n",
    "\n",
    "output = 'project_video_output.mp4'\n",
    "clip1 = VideoFileClip(\"project_video.mp4\")\n",
    "final_clip = clip1.fl_image(video_pipeline)#NOTE: this function expects color images!!\n",
    "%time final_clip.write_videofile(output, audio=False)"
   ]
  },
  {
   "cell_type": "code",
   "execution_count": null,
   "metadata": {},
   "outputs": [],
   "source": []
  },
  {
   "cell_type": "code",
   "execution_count": null,
   "metadata": {},
   "outputs": [],
   "source": []
  }
 ],
 "metadata": {
  "kernelspec": {
   "display_name": "Python 3",
   "language": "python",
   "name": "python3"
  },
  "language_info": {
   "codemirror_mode": {
    "name": "ipython",
    "version": 3
   },
   "file_extension": ".py",
   "mimetype": "text/x-python",
   "name": "python",
   "nbconvert_exporter": "python",
   "pygments_lexer": "ipython3",
   "version": "3.7.7"
  }
 },
 "nbformat": 4,
 "nbformat_minor": 4
}
